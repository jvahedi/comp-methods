{
 "cells": [
  {
   "cell_type": "markdown",
   "metadata": {},
   "source": [
    "# HW 3: Distributed Memory Parallelism\n",
    "\n",
    "This homework will primarily require writing code so you should be turning in a **SINGLE** zip/tar file into courseworks as your homework."
   ]
  },
  {
   "cell_type": "markdown",
   "metadata": {},
   "source": [
    "## 1 Jacobi on a Grid\n",
    "\n",
    "[60] We coded up a two-dimensional Jacobi iterative Poisson solver for the problem\n",
    "$$\n",
    "    \\nabla^2 u = f(x,y) \\quad x \\in \\Omega [0, \\pi] \\times [0 \\pi] \\\\\n",
    "    u(0, y) = u(\\pi, y) = 0 \\\\\n",
    "    u(x, 0) = 2 \\sin x, u(x, \\pi) = - 2 \\sin x \\\\\n",
    "    f(x, y) = -20 \\sin x \\cos 3 y.\n",
    "$$\n",
    "Modify what we did in class to instead of having a linear process division to use a grided division of work.  You can assume that the number of processes being requested is a power of 2 and that the total number of points is also a power of 2 for simplicity."
   ]
  },
  {
   "cell_type": "markdown",
   "metadata": {},
   "source": [
    "## 2 Hybrid Parallelism\n",
    "\n",
    "[40] MPI and OpenMP can of course be used together.  This is helpful if you want to use shared memory parallelism on node and then communicate between nodes using MPI.  Modify the `compute_pi` example we did in class to use both MPI and OpenMP by specifying both a number of processes `p` and threads `n` and breaking the problem up accordingly and computing $\\pi$."
   ]
  },
  {
   "cell_type": "code",
   "execution_count": null,
   "metadata": {},
   "outputs": [],
   "source": []
  },
  {
   "cell_type": "code",
   "execution_count": 1,
   "metadata": {},
   "outputs": [],
   "source": [
    "x=1"
   ]
  },
  {
   "cell_type": "code",
   "execution_count": 2,
   "metadata": {},
   "outputs": [
    {
     "name": "stdout",
     "output_type": "stream",
     "text": [
      "1\n"
     ]
    }
   ],
   "source": [
    "print(1)"
   ]
  },
  {
   "cell_type": "code",
   "execution_count": null,
   "metadata": {},
   "outputs": [],
   "source": []
  }
 ],
 "metadata": {
  "kernelspec": {
   "display_name": "Python 3",
   "language": "python",
   "name": "python3"
  },
  "language_info": {
   "codemirror_mode": {
    "name": "ipython",
    "version": 3
   },
   "file_extension": ".py",
   "mimetype": "text/x-python",
   "name": "python",
   "nbconvert_exporter": "python",
   "pygments_lexer": "ipython3",
   "version": "3.8.3"
  }
 },
 "nbformat": 4,
 "nbformat_minor": 2
}
