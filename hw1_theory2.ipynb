{
 "cells": [
  {
   "cell_type": "markdown",
   "metadata": {},
   "source": [
    "# HW 1: Theory\n",
    "\n",
    "This particular homework will not require you to turn in extraneous code so just write in your answers into this Jupyter notebook.  Please note that there is a bit of literature searching that I am requiring you to do though and this will **absolutely** require you to cite what you find.  Citations must be done properly, not just URLs.  If you have any issues doing so please reach out to [me](http://www.columbia.edu/~ktm2132/) or your [local friendly librarian](https://library.columbia.edu). "
   ]
  },
  {
   "cell_type": "markdown",
   "metadata": {},
   "source": [
    "## 1 - Amdahl's Law \n",
    "\n",
    "**(a)** [15] Consider the following bit of code and estimate the proportion of serial vs. parallelizable code.\n",
    "```python\n",
    "a = empty(N)\n",
    "b = empty(N)\n",
    "for i in range(N):\n",
    "    a[i] = f(i)\n",
    "    \n",
    "for i in range(N):\n",
    "    b[i] = g(i, a)\n",
    "```\n",
    "Assume in this case that $g(\\cdot)$ is a function that can be run independently from other functions while $f(\\cdot)$ cannot.  Your solution may need to depend on $N$.\n",
    "\n",
    "Explain your answer by annotating the code above."
   ]
  },
  {
   "cell_type": "markdown",
   "metadata": {},
   "source": []
  },
  {
   "cell_type": "markdown",
   "metadata": {},
   "source": [
    "**(b)** [15] Plot the number of processes vs. the resulting expectation of efficiency/speedup and compare to the limits of Amdahl's law."
   ]
  },
  {
   "cell_type": "code",
   "execution_count": null,
   "metadata": {},
   "outputs": [],
   "source": []
  },
  {
   "cell_type": "markdown",
   "metadata": {},
   "source": [
    "**(c)** [10] Confirm the importance of reducing the amount of serial $S$ code by plotting $S$ vs. efficiency/speedup using Amdahl's Law."
   ]
  },
  {
   "cell_type": "code",
   "execution_count": null,
   "metadata": {},
   "outputs": [],
   "source": []
  },
  {
   "cell_type": "markdown",
   "metadata": {},
   "source": [
    "## 2 - Roofline Models\n",
    "\n",
    "**(a)** [15] Pick a _specific_ chip and compute a roof-line model for it.  Feel free to make some assumptions as you will probably need to get the true memory bandwidth to main-memory.  Plot this roof-line model and justify the model."
   ]
  },
  {
   "cell_type": "markdown",
   "metadata": {},
   "source": []
  },
  {
   "cell_type": "code",
   "execution_count": null,
   "metadata": {},
   "outputs": [],
   "source": []
  },
  {
   "cell_type": "markdown",
   "metadata": {},
   "source": [
    "**(b)** [10] Estimate the arithmetic intensity of the matrix vector product and plot it on your roof-line model."
   ]
  },
  {
   "cell_type": "markdown",
   "metadata": {},
   "source": []
  },
  {
   "cell_type": "code",
   "execution_count": null,
   "metadata": {},
   "outputs": [],
   "source": []
  },
  {
   "cell_type": "markdown",
   "metadata": {},
   "source": [
    "**(c)** [15] Look through the scientific and engineering literature for articles that discuss their estimate for their arithmetic intensity and plot it on your model above.  Discuss how they came to their conclusion."
   ]
  },
  {
   "cell_type": "code",
   "execution_count": null,
   "metadata": {},
   "outputs": [],
   "source": []
  },
  {
   "cell_type": "markdown",
   "metadata": {},
   "source": [
    "## 3 - Scalability\n",
    "\n",
    "[20] Explore the scientific and engineering literature for discussions of approaches to problems with an emphasis on scalability.  For instance, if you wanted to solve for the first few eigenvalues of a matrix, what is the most scalable way to do so (do not do this one).  You can pick from any field."
   ]
  },
  {
   "cell_type": "markdown",
   "metadata": {},
   "source": []
  }
 ],
 "metadata": {
  "kernelspec": {
   "display_name": "Python 3",
   "language": "python",
   "name": "python3"
  },
  "language_info": {
   "codemirror_mode": {
    "name": "ipython",
    "version": 3
   },
   "file_extension": ".py",
   "mimetype": "text/x-python",
   "name": "python",
   "nbconvert_exporter": "python",
   "pygments_lexer": "ipython3",
   "version": "3.8.5"
  }
 },
 "nbformat": 4,
 "nbformat_minor": 2
}
